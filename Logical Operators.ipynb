{
 "cells": [
  {
   "cell_type": "code",
   "execution_count": 1,
   "metadata": {},
   "outputs": [
    {
     "name": "stdout",
     "output_type": "stream",
     "text": [
      "True\n",
      "False\n",
      "True\n"
     ]
    }
   ],
   "source": [
    "#Logical expressions worden gevorm door Logical operators (OR-AND-NOT) en Boolean (True, False)\n",
    "\n",
    "# OR Expression\n",
    "my_bool = True or False\n",
    "print (my_bool)\n",
    "\n",
    "# AND Expression\n",
    "my_bool = True and False\n",
    "print (my_bool) \n",
    "\n",
    "# NOT expression\n",
    "my_bool = False\n",
    "print (not my_bool)"
   ]
  },
  {
   "cell_type": "code",
   "execution_count": 2,
   "metadata": {},
   "outputs": [
    {
     "name": "stdout",
     "output_type": "stream",
     "text": [
      "10\n",
      "0\n"
     ]
    }
   ],
   "source": [
    "#In bit terms, de value True is 1. False correspondeert met 0:\n",
    "#De Python compiler kan de bool automatisch naar zijn nummerieke vorm omzetten indien nodig.\n",
    "print (10 * True)\n",
    "print (10 * False)"
   ]
  }
 ],
 "metadata": {
  "kernelspec": {
   "display_name": "Python 3",
   "language": "python",
   "name": "python3"
  },
  "language_info": {
   "codemirror_mode": {
    "name": "ipython",
    "version": 3
   },
   "file_extension": ".py",
   "mimetype": "text/x-python",
   "name": "python",
   "nbconvert_exporter": "python",
   "pygments_lexer": "ipython3",
   "version": "3.7.4"
  }
 },
 "nbformat": 4,
 "nbformat_minor": 2
}
