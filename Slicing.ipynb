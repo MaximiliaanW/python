{
 "cells": [
  {
   "cell_type": "code",
   "execution_count": 2,
   "metadata": {},
   "outputs": [
    {
     "name": "stdout",
     "output_type": "stream",
     "text": [
      "This\n",
      "his is\n",
      "MY string!\n"
     ]
    }
   ],
   "source": [
    "#Slicing\n",
    "\n",
    "my_string = \"This is MY string!\"\n",
    "print (my_string[0:4]) #Geef plek 0 t/m 3 weer\n",
    "print (my_string[1:7]) #Geef plek 1 t/m6 weer\n",
    "print (my_string[8:len(my_string)])  #Geef plek 8 tot het einde weer dmv len"
   ]
  },
  {
   "cell_type": "code",
   "execution_count": 1,
   "metadata": {},
   "outputs": [
    {
     "name": "stdout",
     "output_type": "stream",
     "text": [
      "This is\n",
      "Ti s\n",
      "Ti\n"
     ]
    }
   ],
   "source": [
    "#Slicing met stappen *je moet deze volgorde aanhouden*  -- string[start:end:step]\n",
    "\n",
    "my_string = \"This is MY string!\"\n",
    "print (my_string[0:7]) # A step of 1\n",
    "print (my_string[0:7:2]) # A step of 2\n",
    "print (my_string[0:7:5]) # A step of 5"
   ]
  },
  {
   "cell_type": "code",
   "execution_count": 1,
   "metadata": {},
   "outputs": [
    {
     "name": "stdout",
     "output_type": "stream",
     "text": [
      "rts YM si s\n",
      "!nrsY ish\n"
     ]
    }
   ],
   "source": [
    "#Reverse Slicing\n",
    "\n",
    "my_string = \"This is MY string!\"\n",
    "print (my_string[13:2:-1]) #start op plek 13 eindig op 2 en maak steeds 1 stap terug(-1)\n",
    "print (my_string[17:0:-2]) #start op 17 eindig op 0 en maak steeds een stap van 2 terug (-2) "
   ]
  },
  {
   "cell_type": "code",
   "execution_count": 2,
   "metadata": {},
   "outputs": [
    {
     "name": "stdout",
     "output_type": "stream",
     "text": [
      "This is \n",
      "MY string!\n",
      "This is MY string!\n",
      "!gnirts YM si sihT\n"
     ]
    }
   ],
   "source": [
    "#Partial Slicing *start en end zijn hier niet opgegeven*\n",
    "\n",
    "my_string = \"This is MY string!\"\n",
    "print (my_string[:8]) # All the characters before 'M'\n",
    "print (my_string[8:]) # Al the characters starting from 'M'\n",
    "print (my_string[:]) # The whole string\n",
    "print (my_string[::-1]) # The whole string in reverse"
   ]
  },
  {
   "cell_type": "code",
   "execution_count": null,
   "metadata": {},
   "outputs": [],
   "source": []
  }
 ],
 "metadata": {
  "kernelspec": {
   "display_name": "Python 3",
   "language": "python",
   "name": "python3"
  },
  "language_info": {
   "codemirror_mode": {
    "name": "ipython",
    "version": 3
   },
   "file_extension": ".py",
   "mimetype": "text/x-python",
   "name": "python",
   "nbconvert_exporter": "python",
   "pygments_lexer": "ipython3",
   "version": "3.7.4"
  }
 },
 "nbformat": 4,
 "nbformat_minor": 2
}
