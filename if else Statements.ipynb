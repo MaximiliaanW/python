{
 "cells": [
  {
   "cell_type": "code",
   "execution_count": null,
   "metadata": {},
   "outputs": [],
   "source": [
    "#Een Conditional Statement is een Boolean die indien \"True\" een stukje code uitvoert, dit verzorgt de \"Flow\" in je code\n",
    "#Dit ziet er in code zo uit\n",
    "\n",
    "if conditional statement is True:\n",
    "    # execute expression1\n",
    "    pass\n",
    "else:\n",
    "    # execute expression2\n",
    "    pass\n"
   ]
  },
  {
   "cell_type": "code",
   "execution_count": null,
   "metadata": {},
   "outputs": [],
   "source": [
    "#Er zijn drie soorten Statements\n",
    "#if\n",
    "#if-else\n",
    "#if-elif-else"
   ]
  },
  {
   "cell_type": "code",
   "execution_count": 2,
   "metadata": {},
   "outputs": [
    {
     "name": "stdout",
     "output_type": "stream",
     "text": [
      "The number is equal to 5\n"
     ]
    }
   ],
   "source": [
    "#if statement\n",
    "\n",
    "#An if statement runs like this:\n",
    "\n",
    "#if the condition holds True, execute the code to be executed. Otherwise, skip it and move on.\n",
    "\n",
    "#Let’s write a simple if statement that verifies the value of an integer:\n",
    "\n",
    "num = 5\n",
    "\n",
    "if (num == 5): # als num gelijk is aan 5 dan \"True\"\n",
    "  print (\"The number is equal to 5\") # deze zin wordt dan getoond\n",
    "\n",
    "if num > 5: # als num groter is dan 5 dan \"False\"\n",
    "  print (\"The number is greater than 5\") # deze zin wordt dan getoond"
   ]
  },
  {
   "cell_type": "code",
   "execution_count": 8,
   "metadata": {},
   "outputs": [
    {
     "name": "stdout",
     "output_type": "stream",
     "text": [
      "The number is a multiple of 2, 3, and 4\n",
      "The number is a multiple of 5 and/or 6\n"
     ]
    }
   ],
   "source": [
    "# Er kunnen meerdere variaties geclasificeerd zijn voor \"True\" deze worden gekoppeld door \"and\" \"or\"\n",
    "\n",
    "num = 12\n",
    "\n",
    "if num % 2 == 0 and num % 3 == 0 and num % 4 == 0 : #hier wordt gebruik gemaakt van \"and\"\n",
    "  # Only works when num is a multiple of 2, 3, and 4\n",
    "  print (\"The number is a multiple of 2, 3, and 4\")\n",
    "\n",
    "if (num % 5 == 0 or num % 6 == 0): #hier wordt gebruik gemaakt van \"or\"\n",
    "  # Only works when num is either a multiple of 5 or 6\n",
    "  print (\"The number is a multiple of 5 and/or 6\")"
   ]
  },
  {
   "cell_type": "code",
   "execution_count": 6,
   "metadata": {},
   "outputs": [
    {
     "name": "stdout",
     "output_type": "stream",
     "text": [
      "The number is in the 60-70 range\n"
     ]
    }
   ],
   "source": [
    "3# Conditional Statements kunnen genesteld worden, een if statement in een if statement!\n",
    "\n",
    "num = 65\n",
    "\n",
    "if num >= 0 and num <= 100:\n",
    "  if num >= 50 and num <= 75:\n",
    "    if num >= 60 and num <= 70:\n",
    "      print (\"The number is in the 60-70 range\")"
   ]
  },
  {
   "cell_type": "code",
   "execution_count": 7,
   "metadata": {},
   "outputs": [
    {
     "name": "stdout",
     "output_type": "stream",
     "text": [
      "20\n",
      "100\n"
     ]
    }
   ],
   "source": [
    "# In een conditional statement kunnen we de \"values\" van de \"variables\" woren aangepast.\n",
    "# Tevens kunnen we nieuwe variables creeren.\n",
    "\n",
    "num = 10\n",
    "if num > 5:\n",
    "  num = 20 # Wijs een nieuwe waarde toe aan num\n",
    "  new_num = num * 5 # creeer een nieuwe value genaamd new_num\n",
    "    \n",
    "# De if conditie is beeindigd maar de aanpassing blijft zijn waarde behouden\n",
    "print (num)\n",
    "print (new_num)"
   ]
  },
  {
   "cell_type": "code",
   "execution_count": 2,
   "metadata": {},
   "outputs": [
    {
     "name": "stdout",
     "output_type": "stream",
     "text": [
      "The number is greater than 50\n"
     ]
    }
   ],
   "source": [
    "#if else statement\n",
    "# if ? dan volgt deze aktie, else ? dan volgt deze aktie\n",
    "\n",
    "num = 60\n",
    "\n",
    "if num <= 50:\n",
    "  print (\"The number is less than or equal to 50\")\n",
    "else:\n",
    "  print (\"The number is greater than 50\")"
   ]
  },
  {
   "cell_type": "code",
   "execution_count": 3,
   "metadata": {},
   "outputs": [
    {
     "name": "stdout",
     "output_type": "stream",
     "text": [
      "The number is greater than 50\n"
     ]
    }
   ],
   "source": [
    "# Conditionel statement met if/else waarmee een variable kan worden gecreeerd.\n",
    "# output_value1 if condition else output_value2\n",
    "\n",
    "num = 60\n",
    "\n",
    "output = \"The number is less than or equal to 50\" if num <= 50 else \"The number is greater than 50\"\n",
    "\n",
    "print (output)"
   ]
  },
  {
   "cell_type": "code",
   "execution_count": 1,
   "metadata": {},
   "outputs": [
    {
     "name": "stdout",
     "output_type": "stream",
     "text": [
      "Stop\n"
     ]
    }
   ],
   "source": [
    "# if elif-else statement\n",
    "\n",
    "# if-elif-else statement gebruik je om met elif tussen stappen in te bouwen die eerst worden gelezen.\n",
    "# Bekijk dit voorbeeld met een stoplocht.\n",
    "    \n",
    "light = \"Red\"\n",
    "\n",
    "if light == \"Green\":\n",
    "    print(\"Go\")\n",
    "\n",
    "elif light == \"Yellow\":\n",
    "    print(\"Caution\")\n",
    "\n",
    "elif light == \"Red\":\n",
    "    print(\"Stop\")\n",
    "\n",
    "else:\n",
    "    print(\"Incorrect light signal\")"
   ]
  },
  {
   "cell_type": "code",
   "execution_count": null,
   "metadata": {},
   "outputs": [],
   "source": [
    "#Nu schrijven we een stukje code dat checkt wat de waarde of een integer in  de range 1 tm 9 valt\n",
    "#en print deze als woord in het Engels.\n",
    "\n",
    "num = 5\n",
    "\n",
    "if num == 0:\n",
    "    print(\"Zero\")\n",
    "elif num == 1:\n",
    "    print(\"One\")\n",
    "elif num == 2:\n",
    "    print(\"Two\")\n",
    "elif num == 3:\n",
    "    print(\"Three\")\n",
    "elif num == 4:\n",
    "    print(\"Four\")\n",
    "elif num == 5:\n",
    "    print(\"Five\")\n",
    "elif num == 6:\n",
    "    print(\"Six\")\n",
    "elif num == 7:\n",
    "    print(\"Seven\")\n",
    "elif num == 8:\n",
    "    print(\"Eight\")\n",
    "elif num == 9:\n",
    "    print(\"Nine\")"
   ]
  }
 ],
 "metadata": {
  "kernelspec": {
   "display_name": "Python 3",
   "language": "python",
   "name": "python3"
  },
  "language_info": {
   "codemirror_mode": {
    "name": "ipython",
    "version": 3
   },
   "file_extension": ".py",
   "mimetype": "text/x-python",
   "name": "python",
   "nbconvert_exporter": "python",
   "pygments_lexer": "ipython3",
   "version": "3.7.4"
  }
 },
 "nbformat": 4,
 "nbformat_minor": 2
}
