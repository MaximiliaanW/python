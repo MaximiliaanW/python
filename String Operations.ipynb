{
 "cells": [
  {
   "cell_type": "code",
   "execution_count": 11,
   "metadata": {},
   "outputs": [
    {
     "data": {
      "text/plain": [
       "11"
      ]
     },
     "execution_count": 11,
     "metadata": {},
     "output_type": "execute_result"
    }
   ],
   "source": [
    "#uit hoeveel karakters bestaat de string\n",
    "len(\"Joe Jackson\")"
   ]
  },
  {
   "cell_type": "code",
   "execution_count": 12,
   "metadata": {},
   "outputs": [
    {
     "name": "stdout",
     "output_type": "stream",
     "text": [
      "Joe Jackson is the best \n"
     ]
    }
   ],
   "source": [
    "#creeer een Statement dmv toevoeging\n",
    "name=\"Joe Jackson\"\n",
    "Statement=name +\" is the best \"\n",
    "print(Statement)"
   ]
  },
  {
   "cell_type": "code",
   "execution_count": 29,
   "metadata": {},
   "outputs": [
    {
     "name": "stdout",
     "output_type": "stream",
     "text": [
      "Joe Jackson\\is the best\n"
     ]
    }
   ],
   "source": [
    "#dmvm r string RAW laten en dus een backslash laten staan\n",
    "print(r\"Joe Jackson\\is the best\")"
   ]
  },
  {
   "cell_type": "code",
   "execution_count": 14,
   "metadata": {},
   "outputs": [
    {
     "name": "stdout",
     "output_type": "stream",
     "text": [
      "Joe jackson\\is the best\n"
     ]
    }
   ],
   "source": [
    "#/ in het midden dmv. dubbele //\n",
    "print(\"Joe jackson\\\\is the best\")"
   ]
  },
  {
   "cell_type": "code",
   "execution_count": 17,
   "metadata": {},
   "outputs": [
    {
     "data": {
      "text/plain": [
       "' Joe Jackson  Joe Jackson  Joe Jackson '"
      ]
     },
     "execution_count": 17,
     "metadata": {},
     "output_type": "execute_result"
    }
   ],
   "source": [
    "#3 x de string uitvoeren\n",
    "3*\" Joe Jackson \""
   ]
  },
  {
   "cell_type": "code",
   "execution_count": 22,
   "metadata": {},
   "outputs": [
    {
     "name": "stdout",
     "output_type": "stream",
     "text": [
      "A GREAT STUDIO ALBUM\n"
     ]
    }
   ],
   "source": [
    "#create method where you change the string in uppperclass\n",
    "A=\"a great studio album\"\n",
    "B=A.upper()\n",
    "print(B)"
   ]
  },
  {
   "cell_type": "code",
   "execution_count": 23,
   "metadata": {},
   "outputs": [
    {
     "name": "stdout",
     "output_type": "stream",
     "text": [
      "Joe Jackson\tis the best\n"
     ]
    }
   ],
   "source": [
    "#dmv t een tab invoegen\n",
    "print(\"Joe Jackson\\tis the best\")"
   ]
  },
  {
   "cell_type": "code",
   "execution_count": 30,
   "metadata": {},
   "outputs": [
    {
     "name": "stdout",
     "output_type": "stream",
     "text": [
      "Jack Jackson is the best\n"
     ]
    }
   ],
   "source": [
    "#vervang een gedeelte van de string door deze methode\n",
    "A=\"Joe Jackson is the best\"\n",
    "B=A.replace('Joe', 'Jack')\n",
    "print(B)"
   ]
  },
  {
   "cell_type": "code",
   "execution_count": 33,
   "metadata": {},
   "outputs": [
    {
     "data": {
      "text/plain": [
       "5"
      ]
     },
     "execution_count": 33,
     "metadata": {},
     "output_type": "execute_result"
    }
   ],
   "source": [
    "#vind de begin index van el\n",
    "Name='Michael Jackson' \n",
    "Name.find('el')"
   ]
  },
  {
   "cell_type": "code",
   "execution_count": 34,
   "metadata": {},
   "outputs": [
    {
     "data": {
      "text/plain": [
       "8"
      ]
     },
     "execution_count": 34,
     "metadata": {},
     "output_type": "execute_result"
    }
   ],
   "source": [
    "#vind de begin index van Jack\n",
    "Name='Michael Jackson' \n",
    "Name.find('Jack')"
   ]
  },
  {
   "cell_type": "code",
   "execution_count": 35,
   "metadata": {},
   "outputs": [
    {
     "data": {
      "text/plain": [
       "-1"
      ]
     },
     "execution_count": 35,
     "metadata": {},
     "output_type": "execute_result"
    }
   ],
   "source": [
    "#Als de index niet gevonden kan worden is de uitkomst altijd -1\n",
    "Name='Michael Jackson' \n",
    "Name.find('&*D')"
   ]
  },
  {
   "cell_type": "code",
   "execution_count": 1,
   "metadata": {},
   "outputs": [
    {
     "name": "stdout",
     "output_type": "stream",
     "text": [
      "M\n"
     ]
    }
   ],
   "source": [
    "# Print het eerste element in de string\n",
    "Name =\"Michael Jackson\"\n",
    "print(Name[0])"
   ]
  },
  {
   "cell_type": "code",
   "execution_count": 2,
   "metadata": {},
   "outputs": [
    {
     "name": "stdout",
     "output_type": "stream",
     "text": [
      "l\n"
     ]
    }
   ],
   "source": [
    "# Print het element op index 6 in de string\n",
    "Name =\"Michael Jackson\"\n",
    "print(Name[6])"
   ]
  },
  {
   "cell_type": "code",
   "execution_count": 3,
   "metadata": {},
   "outputs": [
    {
     "name": "stdout",
     "output_type": "stream",
     "text": [
      "n\n"
     ]
    }
   ],
   "source": [
    "# Print het laatste element in de string d.m.v. een negatieve index\n",
    "Name = \"Michael Jackson\"\n",
    "print(Name[-1])"
   ]
  },
  {
   "cell_type": "code",
   "execution_count": 1,
   "metadata": {},
   "outputs": [
    {
     "name": "stdout",
     "output_type": "stream",
     "text": [
      "Li\n"
     ]
    }
   ],
   "source": [
    "#Show characters 0 till 2 (Li)\n",
    "name = 'Lizz'\n",
    "print(name[0:2])"
   ]
  },
  {
   "cell_type": "code",
   "execution_count": 4,
   "metadata": {},
   "outputs": [
    {
     "name": "stdout",
     "output_type": "stream",
     "text": [
      "02468\n"
     ]
    }
   ],
   "source": [
    "#Show everey character on second place starting from 0\n",
    "var = '012345678'\n",
    "print(var[::2])"
   ]
  },
  {
   "cell_type": "code",
   "execution_count": 3,
   "metadata": {},
   "outputs": [
    {
     "name": "stdout",
     "output_type": "stream",
     "text": [
      "True\n"
     ]
    }
   ],
   "source": [
    "#UNICODE VALUE\n",
    "# Als twee strings niet dezelfde lengte hebben dan heeft de string die alfabetisch eerst komt de hoogste \"Unicode value\"\n",
    "\n",
    "print ('a' < 'b') # Treu'a' heeft een lagere Unicode value"
   ]
  },
  {
   "cell_type": "code",
   "execution_count": 1,
   "metadata": {},
   "outputs": [
    {
     "name": "stdout",
     "output_type": "stream",
     "text": [
      "True\n"
     ]
    }
   ],
   "source": [
    "#UNICODE VALUE\n",
    "house = \"Gryffindor\"  # 10 karakters\n",
    "house_copy = \"Gryffindor\"\n",
    "\n",
    "print (house == house_copy) # True ze zijn allebei gelijk"
   ]
  },
  {
   "cell_type": "code",
   "execution_count": null,
   "metadata": {},
   "outputs": [],
   "source": [
    "#UNICODE VALUE\n",
    "house = \"Gryffindor\" #10 karakters\n",
    "new_house = \"Slytherin\" # 9 karakters\n",
    "\n",
    "print (house == new_house)  # False new_house is niet gelijk aan house\n",
    "\n",
    "print (new_house <= house)  # False new-house heeft een hoger Unicode value (begint met S en dat staat hoger dan G)\n",
    "\n",
    "print (new_house >= house)  # True new-house heeft een hoger Unicode value (begint met S en dat staat hoger dan G)"
   ]
  },
  {
   "cell_type": "code",
   "execution_count": 1,
   "metadata": {},
   "outputs": [
    {
     "name": "stdout",
     "output_type": "stream",
     "text": [
      "False\n",
      "True\n"
     ]
    }
   ],
   "source": [
    "# Het \"in\" keyword kan worden gebruikt om te checken of er een substring aanwezig is in de string.\n",
    "\n",
    "random_string = \"This is a random string\"\n",
    "\n",
    "print ('of' in random_string) # Check whether 'of' exists in randomString\n",
    "print ('random' in random_string) # 'random' exists!"
   ]
  },
  {
   "cell_type": "code",
   "execution_count": 3,
   "metadata": {},
   "outputs": [
    {
     "name": "stdout",
     "output_type": "stream",
     "text": [
      "5.25\n"
     ]
    }
   ],
   "source": [
    "x = 20\n",
    "y = 5\n",
    "result = (x + True)/(4 - y * False)\n",
    "print(result)"
   ]
  },
  {
   "cell_type": "code",
   "execution_count": null,
   "metadata": {},
   "outputs": [],
   "source": []
  }
 ],
 "metadata": {
  "kernelspec": {
   "display_name": "Python 3",
   "language": "python",
   "name": "python3"
  },
  "language_info": {
   "codemirror_mode": {
    "name": "ipython",
    "version": 3
   },
   "file_extension": ".py",
   "mimetype": "text/x-python",
   "name": "python",
   "nbconvert_exporter": "python",
   "pygments_lexer": "ipython3",
   "version": "3.7.4"
  }
 },
 "nbformat": 4,
 "nbformat_minor": 2
}
