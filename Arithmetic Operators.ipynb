{
 "cells": [
  {
   "cell_type": "code",
   "execution_count": 1,
   "metadata": {},
   "outputs": [
    {
     "name": "stdout",
     "output_type": "stream",
     "text": [
      "15\n",
      "17.05\n",
      "30.5\n"
     ]
    }
   ],
   "source": [
    "# + Adition (Optellen)\n",
    "\n",
    "print (10 + 5)\n",
    "\n",
    "float1 = 13.65\n",
    "float2 = 3.40\n",
    "print (float1 + float2)\n",
    "\n",
    "num = 20\n",
    "flt = 10.5\n",
    "print (num + flt) "
   ]
  },
  {
   "cell_type": "code",
   "execution_count": 2,
   "metadata": {},
   "outputs": [
    {
     "name": "stdout",
     "output_type": "stream",
     "text": [
      "5\n",
      "-22.228\n",
      "9.5\n"
     ]
    }
   ],
   "source": [
    "# - Substraction (Aftrekken)\n",
    "print (10 - 5)\n",
    "\n",
    "float1 = -18.678\n",
    "float2 = 3.55\n",
    "print (float1 - float2)\n",
    "\n",
    "num = 20\n",
    "flt = 10.5\n",
    "print (num - flt) "
   ]
  },
  {
   "cell_type": "code",
   "execution_count": 3,
   "metadata": {},
   "outputs": [
    {
     "name": "stdout",
     "output_type": "stream",
     "text": [
      "400\n",
      "24.75\n",
      "30.599999999999998\n"
     ]
    }
   ],
   "source": [
    "# * Multiplication (maal)\n",
    "\n",
    "print (40 * 10)\n",
    "\n",
    "float1 = 5.5\n",
    "float2 = 4.5\n",
    "print (float1 * float2)\n",
    "\n",
    "print (10.2 * 3)"
   ]
  },
  {
   "cell_type": "code",
   "execution_count": 4,
   "metadata": {},
   "outputs": [
    {
     "name": "stdout",
     "output_type": "stream",
     "text": [
      "4.0\n",
      "1.2222222222222223\n",
      "6.2\n"
     ]
    }
   ],
   "source": [
    "# / Division (delen)\n",
    "\n",
    "print (40 / 10)\n",
    "\n",
    "float1 = 5.5\n",
    "float2 = 4.5\n",
    "print (float1 / float2)\n",
    "print (12.4 / 2)"
   ]
  },
  {
   "cell_type": "code",
   "execution_count": 5,
   "metadata": {},
   "outputs": [
    {
     "name": "stdout",
     "output_type": "stream",
     "text": [
      "4\n",
      "1.0\n",
      "6.0\n"
     ]
    }
   ],
   "source": [
    "# // Floordivision (delen maar er de uitkomst is altijd een integer)\n",
    "\n",
    "print (43 // 10)\n",
    "\n",
    "float1 = 5.5\n",
    "float2 = 4.5\n",
    "print (5.5 // 4.5)\n",
    "print (12.4 // 2)"
   ]
  },
  {
   "cell_type": "code",
   "execution_count": 10,
   "metadata": {},
   "outputs": [
    {
     "name": "stdout",
     "output_type": "stream",
     "text": [
      "6\n",
      "8\n",
      "2\n",
      "1.8999999999999986\n"
     ]
    }
   ],
   "source": [
    "# % Modulo      je deelt, en wat er over blijft is de \"Modulo\"\n",
    "\n",
    "print (26 % 10)\n",
    "\n",
    "twenty_eight = 28\n",
    "print (twenty_eight % 10)\n",
    "\n",
    "print (-28 % 10) # The remainder is always positive\n",
    "print (34.4 % 2.5) # The remainder can be a float"
   ]
  },
  {
   "cell_type": "code",
   "execution_count": 12,
   "metadata": {},
   "outputs": [
    {
     "name": "stdout",
     "output_type": "stream",
     "text": [
      "12\n"
     ]
    }
   ],
   "source": [
    "# ** The Power of\n",
    "# 2**3*2 (2*2*2  *2 =16)\n",
    "blok=2*3*2\n",
    "print(blok)"
   ]
  },
  {
   "cell_type": "code",
   "execution_count": 12,
   "metadata": {},
   "outputs": [
    {
     "name": "stdout",
     "output_type": "stream",
     "text": [
      "14\n",
      "10.0\n"
     ]
    }
   ],
   "source": [
    "# () Parentheses Haakjes gaan altijd voor\n",
    "print ((10 - 3) * 2) # Subtraction occurs first\n",
    "print ((18 + 2) / (10 % 8))"
   ]
  },
  {
   "cell_type": "code",
   "execution_count": 11,
   "metadata": {},
   "outputs": [
    {
     "name": "stdout",
     "output_type": "stream",
     "text": [
      "4\n",
      "12.0\n",
      "0.75\n"
     ]
    }
   ],
   "source": [
    "#Precendence  (voorrang volgens mathematic conventions)\n",
    "\n",
    "# ()- ** - %  * / // -  + -\n",
    "\n",
    "print (10 - 3 * 2) # Multiplication computed first, followed by subtraction\n",
    "\n",
    "# geen voorrang precedence \n",
    "print (3 * 20 / 5) # Multiplication computed first, followed by division\n",
    "print (3 / 20 * 5) # Division computed first, followed by multiplication"
   ]
  }
 ],
 "metadata": {
  "kernelspec": {
   "display_name": "Python 3",
   "language": "python",
   "name": "python3"
  },
  "language_info": {
   "codemirror_mode": {
    "name": "ipython",
    "version": 3
   },
   "file_extension": ".py",
   "mimetype": "text/x-python",
   "name": "python",
   "nbconvert_exporter": "python",
   "pygments_lexer": "ipython3",
   "version": "3.7.4"
  }
 },
 "nbformat": 4,
 "nbformat_minor": 2
}
