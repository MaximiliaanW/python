{
 "cells": [
  {
   "cell_type": "code",
   "execution_count": 29,
   "metadata": {},
   "outputs": [
    {
     "name": "stdout",
     "output_type": "stream",
     "text": [
      "The title is Just this \n",
      "Its author is  Max Weterings \n",
      "It contains  700\n"
     ]
    }
   ],
   "source": [
    "#first create a class\n",
    "class Book:\n",
    "#add attributes (Instantiating)\n",
    "    def __init__(self, title, author, numberOfPages,):\n",
    "        self.title = title\n",
    "        self.author = author\n",
    "        self.numberOfPages = numberOfPages\n",
    "        \n",
    "#create a variable (instance of a class) with values        \n",
    "myBook = Book(\"Coding is art\",\"Max Weterings\", 700,)\n",
    "\n",
    "#change one attribute (title)\n",
    "myBook.title = \"Just this\"\n",
    "\n",
    "#print\n",
    "print(\"The title is\", myBook.title,  \"\\nIts author is \", myBook.author, \"\\nIt contains \", myBook.numberOfPages)"
   ]
  },
  {
   "cell_type": "code",
   "execution_count": 30,
   "metadata": {},
   "outputs": [
    {
     "name": "stdout",
     "output_type": "stream",
     "text": [
      "De naam van de PC is Kantoor \n",
      "de kleur is Rood \n",
      "de processor is AMD\n"
     ]
    }
   ],
   "source": [
    "class Pc:\n",
    "    def __init__(self, naam, kleur, processor,):\n",
    "        self.naam = naam\n",
    "        self.kleur = kleur\n",
    "        self.processor = processor\n",
    "        \n",
    "myPc =  Pc(\"Kantoor\", \"Zwart\", \"AMD\",)\n",
    "\n",
    "myPc.kleur = \"Rood\"\n",
    "\n",
    "print(\"De naam van de PC is\", myPc.naam, \"\\nde kleur is\", myPc.kleur, \"\\nde processor is\", myPc.processor )\n"
   ]
  },
  {
   "cell_type": "code",
   "execution_count": 37,
   "metadata": {},
   "outputs": [
    {
     "name": "stdout",
     "output_type": "stream",
     "text": [
      "Mijn hond zijn naam is Jack \n",
      "zijn ras is Mixed \n",
      "zijn kleur is Blond \n",
      "en hij is 6\n"
     ]
    }
   ],
   "source": [
    "class Dog:\n",
    "\n",
    "    def __init__(self, naam, ras, kleur, leeftijd,):\n",
    "        self.naam = naam\n",
    "        self.ras = ras\n",
    "        self.kleur = kleur\n",
    "        self.leeftijd = leeftijd\n",
    "        \n",
    "myDog = Dog(\"Jack\", \"Mixed\", \"Blond\", 6,)\n",
    "\n",
    "print(\"Mijn hond zijn naam is\", myDog.naam, \"\\nzijn ras is\", myDog.ras, \"\\nzijn kleur is\", myDog.kleur, \"\\nen hij is\", myDog.leeftijd )\n",
    "        \n",
    "\n",
    "        "
   ]
  },
  {
   "cell_type": "code",
   "execution_count": 39,
   "metadata": {},
   "outputs": [
    {
     "name": "stdout",
     "output_type": "stream",
     "text": [
      "Mijn telefoon is een Samsung \n",
      "het type is S8 \n",
      "de kleur is Black\n"
     ]
    }
   ],
   "source": [
    " class Phone:\n",
    "        def __init__(self, name, type, color,):\n",
    "            self.name = name\n",
    "            self.type = type\n",
    "            self.color = color\n",
    "myPhone = Phone(\"Samsung\", \"S8\", \"Black\")\n",
    "print(\"Mijn telefoon is een\", myPhone.name, \"\\nhet type is\", myPhone.type, \"\\nde kleur is\", myPhone.color,)"
   ]
  },
  {
   "cell_type": "code",
   "execution_count": null,
   "metadata": {},
   "outputs": [],
   "source": []
  },
  {
   "cell_type": "code",
   "execution_count": null,
   "metadata": {},
   "outputs": [],
   "source": []
  }
 ],
 "metadata": {
  "kernelspec": {
   "display_name": "Python 3",
   "language": "python",
   "name": "python3"
  },
  "language_info": {
   "codemirror_mode": {
    "name": "ipython",
    "version": 3
   },
   "file_extension": ".py",
   "mimetype": "text/x-python",
   "name": "python",
   "nbconvert_exporter": "python",
   "pygments_lexer": "ipython3",
   "version": "3.7.4"
  }
 },
 "nbformat": 4,
 "nbformat_minor": 2
}
