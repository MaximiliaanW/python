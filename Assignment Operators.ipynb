{
 "cells": [
  {
   "cell_type": "code",
   "execution_count": null,
   "metadata": {},
   "outputs": [],
   "source": [
    "# Assignment Operators  (wijzen een waarde toe aan een variable )\n",
    "#   =                               wijs toe\n",
    "#  +=         voeg toe           en wijs toe\n",
    "#  -=         trek af            en wijs toe\n",
    "#  *=         maal               en wijs toe\n",
    "#  /=         delen              en wijs toe\n",
    "# //=         delen - grondgetal en wijs toe\n",
    "#  %=         vind modulo        en wijs toe\n",
    "# |=, &=, ^=  OR/AND/XOR         en wijs toe\n",
    "# >>=         rechter shift      en wijs toe\n",
    "# <<=         linker  shift      en wijs toe"
   ]
  },
  {
   "cell_type": "code",
   "execution_count": 2,
   "metadata": {},
   "outputs": [
    {
     "name": "stdout",
     "output_type": "stream",
     "text": [
      "2019\n",
      "2021\n",
      "2022\n"
     ]
    }
   ],
   "source": [
    "year = 2019\n",
    "print (year)\n",
    "\n",
    "year = 2020\n",
    "print (year)\n",
    "\n",
    "year = year + 1 # Using the existing value to create a new one\n",
    "print (year)"
   ]
  },
  {
   "cell_type": "code",
   "execution_count": 3,
   "metadata": {},
   "outputs": [
    {
     "name": "stdout",
     "output_type": "stream",
     "text": [
      "35 20\n"
     ]
    }
   ],
   "source": [
    "first = 20\n",
    "second = first\n",
    "first = 35 # Updating 'first'\n",
    "\n",
    "print (first, second) # 'second' remains unchanged"
   ]
  },
  {
   "cell_type": "code",
   "execution_count": 4,
   "metadata": {},
   "outputs": [
    {
     "name": "stdout",
     "output_type": "stream",
     "text": [
      "10\n",
      "15\n",
      "10\n",
      "20\n",
      "10.0\n",
      "100.0\n"
     ]
    }
   ],
   "source": [
    "num = 10\n",
    "print (num)\n",
    "\n",
    "num += 5\n",
    "print (num)\n",
    "\n",
    "num -= 5\n",
    "print (num)\n",
    "\n",
    "num *= 2\n",
    "print (num)\n",
    "\n",
    "num /= 2\n",
    "print (num)\n",
    "\n",
    "num **= 2\n",
    "print (num)"
   ]
  }
 ],
 "metadata": {
  "kernelspec": {
   "display_name": "Python 3",
   "language": "python",
   "name": "python3"
  },
  "language_info": {
   "codemirror_mode": {
    "name": "ipython",
    "version": 3
   },
   "file_extension": ".py",
   "mimetype": "text/x-python",
   "name": "python",
   "nbconvert_exporter": "python",
   "pygments_lexer": "ipython3",
   "version": "3.7.4"
  }
 },
 "nbformat": 4,
 "nbformat_minor": 2
}
