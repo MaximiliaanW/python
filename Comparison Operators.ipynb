{
 "cells": [
  {
   "cell_type": "code",
   "execution_count": null,
   "metadata": {},
   "outputs": [],
   "source": [
    "#Comparison (vergelijking)\n",
    "#  > groter dan\n",
    "#  < kleiner dan\n",
    "#  >= groter dan of gelijk aan\n",
    "#  <= kleiner dan of gelijk aan\n",
    "#  == gelijk aan\n",
    "#  is = gelijk aan\n",
    "#  is not = is niet gelijk aan "
   ]
  },
  {
   "cell_type": "code",
   "execution_count": 1,
   "metadata": {},
   "outputs": [
    {
     "name": "stdout",
     "output_type": "stream",
     "text": [
      "True\n",
      "False\n",
      "True\n",
      "True\n",
      "False\n",
      "False\n"
     ]
    }
   ],
   "source": [
    "num1 = 5\n",
    "num2 = 10\n",
    "num3 = 10\n",
    "print (num2 > num1) # 10 is greater than 5\n",
    "print (num1 > num2) # 5 is not greater than 10\n",
    "\n",
    "print (num2 is num3) # Both have the same value\n",
    "print (num3 is not num1) # Both have different values\n",
    "\n",
    "print (3 + 10 == 5 + 5) # Both are not equal\n",
    "print (3 <= 2) # 3 is not less than or equal to 2"
   ]
  },
  {
   "cell_type": "code",
   "execution_count": null,
   "metadata": {},
   "outputs": [],
   "source": []
  }
 ],
 "metadata": {
  "kernelspec": {
   "display_name": "Python 3",
   "language": "python",
   "name": "python3"
  },
  "language_info": {
   "codemirror_mode": {
    "name": "ipython",
    "version": 3
   },
   "file_extension": ".py",
   "mimetype": "text/x-python",
   "name": "python",
   "nbconvert_exporter": "python",
   "pygments_lexer": "ipython3",
   "version": "3.7.4"
  }
 },
 "nbformat": 4,
 "nbformat_minor": 2
}
