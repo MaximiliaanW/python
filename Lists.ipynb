{
 "cells": [
  {
   "cell_type": "code",
   "execution_count": 16,
   "metadata": {},
   "outputs": [
    {
     "name": "stdout",
     "output_type": "stream",
     "text": [
      "['orange', 'apple', 'banana', 'strawberry']\n",
      "['orange', 'apple', 'cherry', 'strawberry']\n"
     ]
    }
   ],
   "source": [
    "# Een list heeft net als een variable een \"naam\" en \"values\", hier een voorbeeld met fruit \n",
    "basketOfFruits = ['orange', 'apple', 'banana', 'strawberry']\n",
    "print(basketOfFruits)\n",
    "\n",
    "# Nu kan je 2 dingen doen, je kan een \"value\" benaderen d.m.v. een gegeven index of je kan een \"value\" veranderen.\n",
    "# Verander de value \"banana\" in de waarde \"cherry\" \n",
    "# Dat is dus index 2, omdat de 1e index 0 is.\n",
    "\n",
    "basketOfFruits[2] = \"cherry\" \n",
    "print(basketOfFruits)\n",
    "\n"
   ]
  },
  {
   "cell_type": "code",
   "execution_count": 13,
   "metadata": {},
   "outputs": [
    {
     "name": "stdout",
     "output_type": "stream",
     "text": [
      "orange\n"
     ]
    }
   ],
   "source": [
    "# Om het 1e stuk fruit te laten zien\n",
    "print(basketOfFruits[0])"
   ]
  },
  {
   "cell_type": "code",
   "execution_count": 14,
   "metadata": {},
   "outputs": [
    {
     "name": "stdout",
     "output_type": "stream",
     "text": [
      "strawberry\n"
     ]
    }
   ],
   "source": [
    "# print het laatste element\n",
    "print(basketOfFruits[-1])"
   ]
  },
  {
   "cell_type": "code",
   "execution_count": 15,
   "metadata": {},
   "outputs": [
    {
     "name": "stdout",
     "output_type": "stream",
     "text": [
      "['apple', 'cherry']\n"
     ]
    }
   ],
   "source": [
    "# Benader  2e tot het 4e element:\n",
    "print(basketOfFruits[1:3])"
   ]
  },
  {
   "cell_type": "code",
   "execution_count": 17,
   "metadata": {},
   "outputs": [
    {
     "name": "stdout",
     "output_type": "stream",
     "text": [
      "['orange', 'apple']\n"
     ]
    }
   ],
   "source": [
    "# tot het 3e element :\n",
    "print(basketOfFruits[:2])"
   ]
  },
  {
   "cell_type": "code",
   "execution_count": 18,
   "metadata": {},
   "outputs": [
    {
     "name": "stdout",
     "output_type": "stream",
     "text": [
      "['an other list', 1]\n"
     ]
    }
   ],
   "source": [
    "# Een list kan van alles bevatten, int, floats en zels een andere list.\n",
    "strangeList = [4, 10.2, \"cherry\", [\"an other list\", 1]]\n",
    "\n",
    "# print het 4e element :\n",
    "print(strangeList[3])"
   ]
  },
  {
   "cell_type": "code",
   "execution_count": 20,
   "metadata": {},
   "outputs": [
    {
     "name": "stdout",
     "output_type": "stream",
     "text": [
      "[]\n"
     ]
    }
   ],
   "source": [
    "#creeer een lege list\n",
    "myList=[]\n",
    "print(myList)\n",
    "\n",
    "\n",
    "\n"
   ]
  },
  {
   "cell_type": "code",
   "execution_count": 21,
   "metadata": {},
   "outputs": [
    {
     "name": "stdout",
     "output_type": "stream",
     "text": [
      "[7]\n"
     ]
    }
   ],
   "source": [
    "#Nu 1 voor 1 elementen toevoegen d.m.v. methode \"append\", 7 komt op index 0\n",
    "myList.append(7)\n",
    "print(myList)"
   ]
  },
  {
   "cell_type": "code",
   "execution_count": 22,
   "metadata": {},
   "outputs": [
    {
     "name": "stdout",
     "output_type": "stream",
     "text": [
      "[7, 5]\n"
     ]
    }
   ],
   "source": [
    "#Nu voegen we het nr 5 toe op plaats 1\n",
    "myList.append(5)\n",
    "print(myList)"
   ]
  },
  {
   "cell_type": "code",
   "execution_count": null,
   "metadata": {},
   "outputs": [],
   "source": []
  }
 ],
 "metadata": {
  "kernelspec": {
   "display_name": "Python 3",
   "language": "python",
   "name": "python3"
  },
  "language_info": {
   "codemirror_mode": {
    "name": "ipython",
    "version": 3
   },
   "file_extension": ".py",
   "mimetype": "text/x-python",
   "name": "python",
   "nbconvert_exporter": "python",
   "pygments_lexer": "ipython3",
   "version": "3.7.4"
  }
 },
 "nbformat": 4,
 "nbformat_minor": 2
}
