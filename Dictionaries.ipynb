{
 "cells": [
  {
   "cell_type": "code",
   "execution_count": 1,
   "metadata": {},
   "outputs": [
    {
     "name": "stdout",
     "output_type": "stream",
     "text": [
      "34\n"
     ]
    }
   ],
   "source": [
    "#Dictionaries is een lijst met elementen gerangschikt door een unieke\"key\"\n",
    "#Op een \"key\" kan je zoeken, de definitie van deze 'key\" noem je een \"value\"\n",
    "\n",
    "#We vragen via \"print\" naar de \"value\" van de \"key\" Jenny\n",
    "\n",
    "myDict = {\"Jenny\": 34, \"Livia\": 28, \"Paul\": 31}\n",
    "print(myDict[\"Jenny\"]) # -> 34"
   ]
  },
  {
   "cell_type": "code",
   "execution_count": null,
   "metadata": {},
   "outputs": [],
   "source": [
    "#Dictionaries zijn hoofdletter gevoelig\n",
    "myDict[\"jenny\"] = 21\n",
    "print(myDict[\"Jenny\"]) # -> 34\n",
    "print(myDict[\"jenny\"]) # -> 21"
   ]
  },
  {
   "cell_type": "code",
   "execution_count": null,
   "metadata": {},
   "outputs": [],
   "source": [
    "#Om verwarring te voorkomen kan je van de keys ook variables maken\n",
    "kJenny = \"Jenny\"\n",
    "kLivia = \"Livia\"\n",
    "kPaul = \"Paul\";\n",
    "\n",
    "myDict = {kJenny: 34, kLivia: 28, kPaul: 31}\n",
    "\n",
    "# access an element\n",
    "print(myDict[kJenny]) # -> 34"
   ]
  },
  {
   "cell_type": "code",
   "execution_count": null,
   "metadata": {},
   "outputs": [],
   "source": [
    "professions = {} # declare an empty dictionary\n",
    "\n",
    "professions[\"Jenny\"] = \"Business owner\"\n",
    "print(professions[\"Jenny\"]) # -> Business Owner"
   ]
  },
  {
   "cell_type": "code",
   "execution_count": 2,
   "metadata": {},
   "outputs": [
    {
     "data": {
      "text/plain": [
       "1"
      ]
     },
     "execution_count": 2,
     "metadata": {},
     "output_type": "execute_result"
    }
   ],
   "source": [
    "\"0123456\".find('1')"
   ]
  },
  {
   "cell_type": "code",
   "execution_count": null,
   "metadata": {},
   "outputs": [],
   "source": []
  }
 ],
 "metadata": {
  "kernelspec": {
   "display_name": "Python 3",
   "language": "python",
   "name": "python3"
  },
  "language_info": {
   "codemirror_mode": {
    "name": "ipython",
    "version": 3
   },
   "file_extension": ".py",
   "mimetype": "text/x-python",
   "name": "python",
   "nbconvert_exporter": "python",
   "pygments_lexer": "ipython3",
   "version": "3.7.4"
  }
 },
 "nbformat": 4,
 "nbformat_minor": 2
}
