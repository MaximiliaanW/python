{
 "cells": [
  {
   "cell_type": "code",
   "execution_count": 2,
   "metadata": {},
   "outputs": [],
   "source": [
    "#In programeren,is het zo dat alle data eigenlijk besttat uit nullen en enen genaamd bits. \n",
    "#Bitwise operators zorgen ervoor dat we bitgerelateerde operaties kunnen uitvoeren op values\n",
    "\n",
    "# &  \t  Bitwise AND      \tIn-fix\n",
    "# |  \t  Bitwise OR       \tIn-fix\n",
    "# ^  \t  Bitwise XOR      \tIn-fix\n",
    "# ~  \t  Bitwise NOT      \tPrefix\n",
    "# << \t  Shift Bits Left  \tIn-fix\n",
    "# >> \t  Shift Bits Right \tIn-fix"
   ]
  },
  {
   "cell_type": "code",
   "execution_count": 1,
   "metadata": {},
   "outputs": [
    {
     "name": "stdout",
     "output_type": "stream",
     "text": [
      "0\n",
      "30\n",
      "30\n",
      "-11\n",
      "80\n",
      "2\n"
     ]
    }
   ],
   "source": [
    "num1 = 10 # Binary value = 01010\n",
    "num2 = 20 # Binary Value = 10100\n",
    "\n",
    "print (num1 & num2) # 00000\n",
    "print (num1 | num2) # 11110\n",
    "print (num1 ^ num2) # 11110\n",
    "print (~num1) # 1111 0101\n",
    "print (num1 << 3) # 0101 0000\n",
    "print (num2 >> 3) # 0010"
   ]
  }
 ],
 "metadata": {
  "kernelspec": {
   "display_name": "Python 3",
   "language": "python",
   "name": "python3"
  },
  "language_info": {
   "codemirror_mode": {
    "name": "ipython",
    "version": 3
   },
   "file_extension": ".py",
   "mimetype": "text/x-python",
   "name": "python",
   "nbconvert_exporter": "python",
   "pygments_lexer": "ipython3",
   "version": "3.7.4"
  }
 },
 "nbformat": 4,
 "nbformat_minor": 2
}
